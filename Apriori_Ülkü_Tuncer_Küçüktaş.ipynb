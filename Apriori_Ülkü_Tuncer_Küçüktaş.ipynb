{
  "nbformat": 4,
  "nbformat_minor": 0,
  "metadata": {
    "colab": {
      "name": "Apriori Ülkü Tuncer Küçüktaş.ipynb",
      "provenance": [],
      "collapsed_sections": [],
      "authorship_tag": "ABX9TyM0sBwAZbhKyoPv+4QtloZi",
      "include_colab_link": true
    },
    "kernelspec": {
      "display_name": "Python 3",
      "name": "python3"
    },
    "language_info": {
      "name": "python"
    }
  },
  "cells": [
    {
      "cell_type": "markdown",
      "metadata": {
        "id": "view-in-github",
        "colab_type": "text"
      },
      "source": [
        "<a href=\"https://colab.research.google.com/github/UlkuTuncerKucuktas/MACHINE-AND-DEEP-LEARNING-ALGORITHMS-AND-STRUCTURES/blob/main/Apriori_%C3%9Clk%C3%BC_Tuncer_K%C3%BC%C3%A7%C3%BCkta%C5%9F.ipynb\" target=\"_parent\"><img src=\"https://colab.research.google.com/assets/colab-badge.svg\" alt=\"Open In Colab\"/></a>"
      ]
    },
    {
      "cell_type": "markdown",
      "metadata": {
        "id": "OIqvJWtrjPHx"
      },
      "source": [
        "**VERİNİN OKUNMASI**"
      ]
    },
    {
      "cell_type": "code",
      "metadata": {
        "id": "recILePnA76T"
      },
      "source": [
        "def read_csv(file):\n",
        "  with open(file, 'r') as f:\n",
        "      results = []\n",
        "      for line in f:\n",
        "              words = line.split(',')\n",
        "              try:\n",
        "                results.append((int(words[0]),words[2].replace(\"\\n\",\"\")))\n",
        "              except:\n",
        "                pass\n",
        "      return results"
      ],
      "execution_count": 26,
      "outputs": []
    },
    {
      "cell_type": "markdown",
      "metadata": {
        "id": "DujKMXbJjSfh"
      },
      "source": [
        "**VERİNİN DÜZENLENMESİ**"
      ]
    },
    {
      "cell_type": "code",
      "metadata": {
        "colab": {
          "base_uri": "https://localhost:8080/"
        },
        "id": "ffD8OQfSYnZJ",
        "outputId": "5b0b4698-c764-45d3-d5d8-d4c3fb9e3fef"
      },
      "source": [
        "data = read_csv(\"/content/dataset.csv\")\n",
        "\n",
        "data.sort(key=lambda x: x[0])\n",
        "\n",
        "customerids = []\n",
        "for i in data:\n",
        "  customerids.append(i[0])\n",
        "\n",
        "customerids = list(set(customerids))\n",
        "\n",
        "items = []\n",
        "for i in data:\n",
        "  items.append(i[1])\n",
        "\n",
        "items = list(set(items))\n",
        "\n",
        "i = 0\n",
        "unified_data = []\n",
        "new_data = []\n",
        "for tupple in data:\n",
        "  if customerids[i] != tupple[0]:\n",
        "    i +=1\n",
        "    new_data.append((customerids[i],list(set(unified_data))))\n",
        "    unified_data = []\n",
        "  unified_data.append(tupple[1])\n",
        "\n",
        "new_data[:5]"
      ],
      "execution_count": 27,
      "outputs": [
        {
          "output_type": "execute_result",
          "data": {
            "text/plain": [
              "[(1001,\n",
              "  ['pickled vegetables',\n",
              "   'soda',\n",
              "   'whole milk',\n",
              "   'salty snack',\n",
              "   'pastry',\n",
              "   'semi-finished bread',\n",
              "   'hygiene articles',\n",
              "   'canned beer',\n",
              "   'misc. beverages',\n",
              "   'yogurt',\n",
              "   'sausage']),\n",
              " (1002,\n",
              "  ['soda',\n",
              "   'whole milk',\n",
              "   'rolls/buns',\n",
              "   'white bread',\n",
              "   'whipped/sour cream',\n",
              "   'curd',\n",
              "   'frankfurter',\n",
              "   'beef',\n",
              "   'sausage']),\n",
              " (1003,\n",
              "  ['other vegetables',\n",
              "   'specialty chocolate',\n",
              "   'sugar',\n",
              "   'whole milk',\n",
              "   'tropical fruit',\n",
              "   'butter milk',\n",
              "   'frozen vegetables',\n",
              "   'butter']),\n",
              " (1004,\n",
              "  ['root vegetables',\n",
              "   'rolls/buns',\n",
              "   'frozen meals',\n",
              "   'detergent',\n",
              "   'dental care',\n",
              "   'sausage']),\n",
              " (1005,\n",
              "  ['other vegetables',\n",
              "   'root vegetables',\n",
              "   'whole milk',\n",
              "   'tropical fruit',\n",
              "   'pastry',\n",
              "   'rolls/buns',\n",
              "   'chocolate',\n",
              "   'hygiene articles',\n",
              "   'cling film/bags',\n",
              "   'canned beer',\n",
              "   'packaged fruit/vegetables',\n",
              "   'frozen fish',\n",
              "   'red/blush wine',\n",
              "   'pip fruit',\n",
              "   'shopping bags',\n",
              "   'dish cleaner'])]"
            ]
          },
          "metadata": {},
          "execution_count": 27
        }
      ]
    },
    {
      "cell_type": "markdown",
      "metadata": {
        "id": "gRRFuV4djh4c"
      },
      "source": [
        "**BRUTE FORCE İLE SONUCUN BULUMNASI**"
      ]
    },
    {
      "cell_type": "code",
      "metadata": {
        "id": "y1Q4ssbe4fpQ",
        "colab": {
          "base_uri": "https://localhost:8080/"
        },
        "outputId": "e8aa9425-1c09-41d5-e1a0-98eece4a299a"
      },
      "source": [
        "\n",
        "def powerset(s):\n",
        "  output = []\n",
        "  x = len(s)\n",
        "  for i in range(1 << x):\n",
        "    output.append([s[j] for j in range(x) if (i & (1 << j))])\n",
        "  return output\n",
        "\n",
        "def Brute_Force(new_data,minimum,maximum):\n",
        "  existing_lists = [row[1] for row in new_data]\n",
        "  existing_lists = [list(x) for x in set(tuple(x) for x in existing_lists)]\n",
        "\n",
        "  filtered = []\n",
        "  for sample in existing_lists:\n",
        "    if len(sample) < maximum and len(sample) > 1:\n",
        "      filtered.append(sample)\n",
        "\n",
        "\n",
        "  sublists = []\n",
        "  for liste in filtered:\n",
        "    sublist = powerset(liste)\n",
        "    sublist = [x for x in sublist if x != []]\n",
        "    sublist = [x for x in sublist if len(x) > minimum]\n",
        "    for i in sublist:\n",
        "      sublists.append(i)\n",
        "  \n",
        "\n",
        "  sublists = [list(x) for x in set(tuple(x) for x in sublists)]\n",
        "\n",
        "  counts_list = []\n",
        "  for subset in sublists:\n",
        "    i = 0\n",
        "    j = 0\n",
        "    for tupple in new_data:\n",
        "      if set(subset).issubset(tupple[1]):\n",
        "        i +=1\n",
        "      if set(subset[:2]).issubset(tupple[1]):\n",
        "        j+=1\n",
        "    counts_list.append([subset,round(i/3897,4),round(i/j,4)])\n",
        "\n",
        "  counts_list.sort(key=lambda x: x[1],reverse=True)\n",
        "\n",
        "  print(\"\\n\\nBrute Foce İle {}-{} Elemanlı En çok Beraber alınan 10 Kombinasyon : \\n\".format(minimum + 1,maximum))\n",
        "  for to_print in counts_list[:10]:\n",
        "    \n",
        "    print(\"{} ------> {} \\t support:{} confidence:{} \".format(to_print[0][:-1],to_print[0][-1],to_print[1],to_print[2]))\n",
        "\n",
        "\n",
        "Brute_Force(new_data,1,3)\n",
        "Brute_Force(new_data,2,4)\n",
        "Brute_Force(new_data,4,6)\n",
        "Brute_Force(new_data,6,8)\n"
      ],
      "execution_count": 54,
      "outputs": [
        {
          "output_type": "stream",
          "name": "stdout",
          "text": [
            "\n",
            "\n",
            "Brute Foce İle 2-3 Elemanlı En çok Beraber alınan 10 Kombinasyon : \n",
            "\n",
            "['other vegetables'] ------> whole milk \t support:0.1914 confidence:1.0 \n",
            "['whole milk'] ------> rolls/buns \t support:0.1786 confidence:1.0 \n",
            "['soda'] ------> whole milk \t support:0.1511 confidence:1.0 \n",
            "['other vegetables'] ------> rolls/buns \t support:0.1468 confidence:1.0 \n",
            "['other vegetables'] ------> yogurt \t support:0.1203 confidence:1.0 \n",
            "['soda'] ------> rolls/buns \t support:0.1198 confidence:1.0 \n",
            "['root vegetables'] ------> whole milk \t support:0.1132 confidence:1.0 \n",
            "['bottled water'] ------> whole milk \t support:0.1124 confidence:1.0 \n",
            "['rolls/buns'] ------> yogurt \t support:0.1114 confidence:1.0 \n",
            "['whole milk'] ------> sausage \t support:0.107 confidence:1.0 \n",
            "\n",
            "\n",
            "Brute Foce İle 3-4 Elemanlı En çok Beraber alınan 10 Kombinasyon : \n",
            "\n",
            "['other vegetables', 'whole milk'] ------> rolls/buns \t support:0.0821 confidence:0.429 \n",
            "['other vegetables', 'soda'] ------> whole milk \t support:0.0693 confidence:0.559 \n",
            "['citrus fruit', 'whole milk'] ------> rolls/buns \t support:0.0398 confidence:0.4306 \n",
            "['soda', 'rolls/buns'] ------> sausage \t support:0.0359 confidence:0.2998 \n",
            "['fruit/vegetable juice', 'whole milk'] ------> rolls/buns \t support:0.0275 confidence:0.4403 \n",
            "['bottled water', 'other vegetables'] ------> root vegetables \t support:0.0259 confidence:0.276 \n",
            "['other vegetables', 'whole milk'] ------> UHT-milk \t support:0.0221 confidence:0.1153 \n",
            "['citrus fruit', 'canned beer'] ------> whole milk \t support:0.0198 confidence:0.5789 \n",
            "['soda', 'canned beer'] ------> sausage \t support:0.0164 confidence:0.3005 \n",
            "['other vegetables', 'pip fruit'] ------> shopping bags \t support:0.0162 confidence:0.2234 \n",
            "\n",
            "\n",
            "Brute Foce İle 5-6 Elemanlı En çok Beraber alınan 10 Kombinasyon : \n",
            "\n",
            "['soda', 'whole milk', 'pastry', 'rolls/buns'] ------> yogurt \t support:0.0051 confidence:0.034 \n",
            "['other vegetables', 'whole milk', 'bottled beer', 'beef'] ------> yogurt \t support:0.0033 confidence:0.0174 \n",
            "['other vegetables', 'soda', 'whole milk', 'white bread'] ------> sausage \t support:0.0031 confidence:0.0248 \n",
            "['whole milk', 'rolls/buns', 'bottled beer', 'whipped/sour cream'] ------> citrus fruit \t support:0.0031 confidence:0.0172 \n",
            "['other vegetables', 'root vegetables', 'soda', 'frankfurter'] ------> sausage \t support:0.0031 confidence:0.0328 \n",
            "['other vegetables', 'root vegetables', 'rolls/buns', 'frankfurter'] ------> newspapers \t support:0.0028 confidence:0.0301 \n",
            "['other vegetables', 'pork', 'brown bread', 'rolls/buns'] ------> yogurt \t support:0.0026 confidence:0.0461 \n",
            "['bottled water', 'other vegetables', 'whole milk', 'coffee'] ------> shopping bags \t support:0.0021 confidence:0.0219 \n",
            "['soda', 'root vegetables', 'coffee', 'canned beer'] ------> yogurt \t support:0.0021 confidence:0.0253 \n",
            "['soda', 'whole milk', 'tropical fruit', 'pip fruit'] ------> shopping bags \t support:0.0021 confidence:0.0136 \n",
            "\n",
            "\n",
            "Brute Foce İle 7-8 Elemanlı En çok Beraber alınan 10 Kombinasyon : \n",
            "\n",
            "['cream cheese ', 'whole milk', 'pastry', 'domestic eggs', 'chocolate', 'packaged fruit/vegetables'] ------> specialty bar \t support:0.0005 confidence:0.0108 \n",
            "['whole milk', 'sugar', 'tropical fruit', 'processed cheese', 'pastry', 'white bread'] ------> canned beer \t support:0.0005 confidence:0.0139 \n",
            "['whole milk', 'pork', 'domestic eggs', 'bottled beer', 'onions', 'shopping bags'] ------> misc. beverages \t support:0.0005 confidence:0.0077 \n",
            "['soda', 'whole milk', 'pork', 'brown bread', 'rolls/buns', 'white bread'] ------> sausage \t support:0.0005 confidence:0.0034 \n",
            "['other vegetables', 'oil', 'cream cheese ', 'brown bread', 'pastry', 'newspapers'] ------> yogurt \t support:0.0005 confidence:0.0196 \n",
            "['other vegetables', 'whole milk', 'tropical fruit', 'fruit/vegetable juice', 'canned beer', 'red/blush wine'] ------> butter \t support:0.0005 confidence:0.0027 \n",
            "['other vegetables', 'root vegetables', 'soda', 'newspapers', 'citrus fruit', 'shopping bags'] ------> yogurt \t support:0.0005 confidence:0.0055 \n",
            "['other vegetables', 'tropical fruit', 'berries', 'whipped/sour cream', 'canned beer', 'UHT-milk'] ------> yogurt \t support:0.0005 confidence:0.0056 \n",
            "['other vegetables', 'root vegetables', 'dessert', 'citrus fruit', 'ice cream', 'butter'] ------> sausage \t support:0.0005 confidence:0.0055 \n",
            "['other vegetables', 'whole milk', 'rolls/buns', 'mustard', 'ice cream', 'shopping bags'] ------> sausage \t support:0.0005 confidence:0.0027 \n"
          ]
        }
      ]
    },
    {
      "cell_type": "markdown",
      "metadata": {
        "id": "kerG0wQpjuCf"
      },
      "source": [
        "**APRİORİ İÇİN GEREKLİ FONSKİYONLAR**"
      ]
    },
    {
      "cell_type": "code",
      "metadata": {
        "colab": {
          "base_uri": "https://localhost:8080/"
        },
        "id": "MeUY4PS61KXD",
        "outputId": "293d9fc1-f8c6-4eb7-f1c5-214d1c89ad32"
      },
      "source": [
        "liste = [ 1, 2, 3, \"a\",\"b\"]\n",
        "def two_element_subset(liste):\n",
        "  subsets = []\n",
        "  i = 1\n",
        "  for element in liste:\n",
        "    for j in range(i,len(liste)):\n",
        "      output = [element,liste[j]]\n",
        "      subsets.append(output)\n",
        "    i+=1\n",
        "  return subsets\n",
        "\n",
        "def three_element_subset(liste):\n",
        "  outputs = []\n",
        "  popedliste = liste.copy()\n",
        "  i = 0\n",
        "  for element in liste:\n",
        "    popedliste.pop(0)\n",
        "    two_subs = two_element_subset(popedliste)\n",
        "    for twosub in  two_subs:\n",
        "      output = [liste[i]]\n",
        "      for el in twosub:\n",
        "        output.append(el)\n",
        "      outputs.append(output)\n",
        "    i+=1\n",
        "  return outputs\n",
        "\n",
        "three_element_subset(liste)"
      ],
      "execution_count": 34,
      "outputs": [
        {
          "output_type": "execute_result",
          "data": {
            "text/plain": [
              "[[1, 2, 3],\n",
              " [1, 2, 'a'],\n",
              " [1, 2, 'b'],\n",
              " [1, 3, 'a'],\n",
              " [1, 3, 'b'],\n",
              " [1, 'a', 'b'],\n",
              " [2, 3, 'a'],\n",
              " [2, 3, 'b'],\n",
              " [2, 'a', 'b'],\n",
              " [3, 'a', 'b']]"
            ]
          },
          "metadata": {},
          "execution_count": 34
        }
      ]
    },
    {
      "cell_type": "markdown",
      "metadata": {
        "id": "lfq-KHHsl8X0"
      },
      "source": [
        "**APRİORİ İLE SONUCUN BULUNMASI**"
      ]
    },
    {
      "cell_type": "code",
      "metadata": {
        "colab": {
          "base_uri": "https://localhost:8080/"
        },
        "id": "wq3D4SUMMCaU",
        "outputId": "ac76d9a5-7099-488b-8dca-c6fd71c41e5e"
      },
      "source": [
        "def Apriori(new_data,support_threshold):\n",
        "\n",
        "  frequent_items1 = []\n",
        "  for label in items:\n",
        "    i = 0\n",
        "    for tupple in new_data:\n",
        "      if label in tupple[1]:\n",
        "        i +=1\n",
        "    i = i / len(new_data)\n",
        "    if i > 0.08:\n",
        "      frequent_items1.append([label,i]) \n",
        "  print(\"Apiori algoirtmasının ilk aşamasında en yüksek support değerine sahip 10 Ürün : \\n\")\n",
        "  for element in frequent_items1[:10]:\n",
        "    print(\"Ürün : {} \\t support: {}\".format(element[0],element[1]))\n",
        "  \n",
        "  frequent_label = [row[0] for row in frequent_items1]\n",
        "  sublists = two_element_subset(frequent_label)\n",
        "  frequent_items2 = []\n",
        "  for subset in sublists:\n",
        "    i = 0\n",
        "    j = 0\n",
        "    for tupple in new_data:\n",
        "      if set(subset).issubset(tupple[1]):\n",
        "        i +=1\n",
        "      if set(subset[:1]).issubset(tupple[1]):\n",
        "        j+= 1\n",
        "    if i/len(new_data) > 0.08:\n",
        "      frequent_items2.append([subset,round(i/len(new_data),4),round(i/j,4)])\n",
        "  frequent_items2.sort(key=lambda x: x[1],reverse=True)\n",
        "\n",
        "  print(\"\\n\\nApiori algoirtmasının ikinci aşamasında en yüksek support değerine sahip Ürün Kombinasyonları : \\n\")\n",
        "  for element in frequent_items2:\n",
        "    print(\"Ürün : {} ------> {} \\t support: {} confidence: {}\".format(element[0][0],element[0][1],element[1],element[2]))\n",
        "  \n",
        "  frequent_labels2 = []\n",
        "  frequent_label2 = [row[0] for row in frequent_items2]\n",
        "  for liste in frequent_label2:\n",
        "    for element in liste:\n",
        "      frequent_labels2.append(element)\n",
        "\n",
        "  frequent_label2 = list(set(frequent_labels2))\n",
        "\n",
        "  sublists = three_element_subset(frequent_label2)\n",
        "\n",
        "  frequent_items3 = []\n",
        "  for subset in sublists:\n",
        "    i = 0\n",
        "    j= 0\n",
        "    for tupple in new_data:\n",
        "      if set(subset).issubset(tupple[1]):\n",
        "        i +=1\n",
        "      if set(subset[:2]).issubset(tupple[1]):\n",
        "        j+= 1\n",
        "    if i /len(new_data) > 0.08:\n",
        "      frequent_items3.append([subset,round(i/len(new_data),4),round(i/j,4)])\n",
        "\n",
        "  frequent_items3.sort(key=lambda x: x[1],reverse=True)\n",
        "\n",
        "  print(\"\\n\\nApiori algoirtmasının üçüncü aşamasında en yüksek support değerine sahip Ürün Kombinasyonları : \\n\")\n",
        "  for element in frequent_items3:\n",
        "    print(\"Ürün : {} ------> {} \\t support: {} confidence: {}\".format(element[0][0:2],element[0][2],element[1],element[2]))\n",
        "\n",
        "\n",
        "Apriori(new_data)\n"
      ],
      "execution_count": 46,
      "outputs": [
        {
          "output_type": "stream",
          "name": "stdout",
          "text": [
            "Apiori algoirtmasının ilk aşamasında en yüksek support değerine sahip 10 Ürün : \n",
            "\n",
            "Ürün : whole milk \t support: 0.45830125737746985\n",
            "Ürün : newspapers \t support: 0.13985116756479343\n",
            "Ürün : soda \t support: 0.31331793687451887\n",
            "Ürün : frozen vegetables \t support: 0.10264305876315115\n",
            "Ürün : yogurt \t support: 0.28303823453938926\n",
            "Ürün : cream cheese  \t support: 0.08852963818321787\n",
            "Ürün : whipped/sour cream \t support: 0.15473441108545036\n",
            "Ürün : pork \t support: 0.13240954580446498\n",
            "Ürün : curd \t support: 0.12086220169361046\n",
            "Ürün : frankfurter \t support: 0.13754169874262254\n",
            "\n",
            "\n",
            "Apiori algoirtmasının ikinci aşamasında en yüksek support değerine sahip Ürün Kombinasyonları : \n",
            "\n",
            "Ürün : whole milk ------> other vegetables \t support: 0.1914 confidence: 0.4177\n",
            "Ürün : whole milk ------> rolls/buns \t support: 0.1786 confidence: 0.3897\n",
            "Ürün : whole milk ------> soda \t support: 0.1511 confidence: 0.3298\n",
            "Ürün : whole milk ------> yogurt \t support: 0.1506 confidence: 0.3287\n",
            "Ürün : other vegetables ------> rolls/buns \t support: 0.1468 confidence: 0.3899\n",
            "Ürün : soda ------> other vegetables \t support: 0.1239 confidence: 0.3956\n",
            "Ürün : yogurt ------> other vegetables \t support: 0.1203 confidence: 0.4252\n",
            "Ürün : soda ------> rolls/buns \t support: 0.1198 confidence: 0.3825\n",
            "Ürün : whole milk ------> tropical fruit \t support: 0.1165 confidence: 0.2542\n",
            "Ürün : whole milk ------> root vegetables \t support: 0.1132 confidence: 0.2469\n",
            "Ürün : whole milk ------> bottled water \t support: 0.1124 confidence: 0.2452\n",
            "Ürün : yogurt ------> rolls/buns \t support: 0.1114 confidence: 0.3935\n",
            "Ürün : whole milk ------> sausage \t support: 0.107 confidence: 0.2335\n",
            "Ürün : soda ------> yogurt \t support: 0.0975 confidence: 0.3112\n",
            "Ürün : root vegetables ------> other vegetables \t support: 0.0939 confidence: 0.4076\n",
            "Ürün : other vegetables ------> bottled water \t support: 0.0939 confidence: 0.2495\n",
            "Ürün : other vegetables ------> sausage \t support: 0.0929 confidence: 0.2468\n",
            "Ürün : whole milk ------> citrus fruit \t support: 0.0924 confidence: 0.2016\n",
            "Ürün : whole milk ------> shopping bags \t support: 0.0914 confidence: 0.1993\n",
            "Ürün : other vegetables ------> tropical fruit \t support: 0.0914 confidence: 0.2427\n",
            "Ürün : whole milk ------> pastry \t support: 0.0911 confidence: 0.1988\n",
            "Ürün : root vegetables ------> rolls/buns \t support: 0.0908 confidence: 0.3942\n",
            "Ürün : tropical fruit ------> rolls/buns \t support: 0.0883 confidence: 0.3776\n",
            "Ürün : whole milk ------> canned beer \t support: 0.0872 confidence: 0.1904\n",
            "Ürün : whole milk ------> pip fruit \t support: 0.087 confidence: 0.1898\n",
            "Ürün : whole milk ------> bottled beer \t support: 0.0855 confidence: 0.1865\n",
            "Ürün : sausage ------> rolls/buns \t support: 0.0824 confidence: 0.3998\n",
            "Ürün : soda ------> tropical fruit \t support: 0.0819 confidence: 0.2613\n",
            "Ürün : soda ------> root vegetables \t support: 0.0811 confidence: 0.2588\n",
            "\n",
            "\n",
            "Apiori algoirtmasının üçüncü aşamasında en yüksek support değerine sahip Ürün Kombinasyonları : \n",
            "\n",
            "Ürün : ['other vegetables', 'whole milk'] ------> rolls/buns \t support: 0.0821 confidence: 0.429\n"
          ]
        }
      ]
    },
    {
      "cell_type": "code",
      "metadata": {
        "id": "AQlv4NennFIP"
      },
      "source": [
        "import time\n",
        "t0= time.clock()\n",
        "Brute_Force(new_data,2,7)\n",
        "t1 = time.clock() - t0\n"
      ],
      "execution_count": null,
      "outputs": []
    },
    {
      "cell_type": "code",
      "metadata": {
        "colab": {
          "base_uri": "https://localhost:8080/"
        },
        "id": "b607DS1BoB_T",
        "outputId": "d51f0d56-ffbe-441c-a43a-97c3838379e2"
      },
      "source": [
        "print(\"BRUTE FORCE İÇİN GEÇEN ZAMAN: \", t1)"
      ],
      "execution_count": 60,
      "outputs": [
        {
          "output_type": "stream",
          "name": "stdout",
          "text": [
            "BRUTE FORCE İÇİN GEÇEN ZAMAN:  174.6011269999999\n"
          ]
        }
      ]
    },
    {
      "cell_type": "code",
      "metadata": {
        "id": "mUeTPdr-oE9u"
      },
      "source": [
        "t0= time.clock()\n",
        "Apiori(new_data)\n",
        "t1 = time.clock() - t0"
      ],
      "execution_count": null,
      "outputs": []
    },
    {
      "cell_type": "code",
      "metadata": {
        "colab": {
          "base_uri": "https://localhost:8080/"
        },
        "id": "vGUQsFIZoMhw",
        "outputId": "38730cf6-f0f2-477f-9821-ec3a08607e74"
      },
      "source": [
        "print(\"BRUTE FORCE İÇİN GEÇEN ZAMAN: \", t1)"
      ],
      "execution_count": 58,
      "outputs": [
        {
          "output_type": "stream",
          "name": "stdout",
          "text": [
            "BRUTE FORCE İÇİN GEÇEN ZAMAN:  8.77130000000011\n"
          ]
        }
      ]
    }
  ]
}